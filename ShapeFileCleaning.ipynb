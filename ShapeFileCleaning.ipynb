{
 "cells": [
  {
   "cell_type": "markdown",
   "id": "55f6e906",
   "metadata": {},
   "source": [
    "# Imports utilized"
   ]
  },
  {
   "cell_type": "code",
   "execution_count": null,
   "id": "c22970b4",
   "metadata": {},
   "outputs": [],
   "source": [
    "import matplotlib.pyplot as plt\n",
    "from gerrychain import Graph, Partition, proposals, updaters, constraints, accept, MarkovChain, Election\n",
    "from gerrychain.updaters import cut_edges, Tally\n",
    "from gerrychain.proposals import recom\n",
    "from gerrychain.accept import always_accept\n",
    "from functools import partial\n",
    " \n",
    "\n",
    "import pandas as pd\n",
    "import geopandas as gpd\n",
    "import maup\n",
    "from maup.smart_repair import smart_repair\n",
    "import time"
   ]
  },
  {
   "cell_type": "markdown",
   "id": "c60e1619",
   "metadata": {},
   "source": [
    "# Vest Shape File"
   ]
  },
  {
   "cell_type": "code",
   "execution_count": null,
   "id": "af7d959e-ac16-4802-befd-05753766d88a",
   "metadata": {},
   "outputs": [],
   "source": [
    "precincts2020 = gpd.read_file('./in_vest_20/in_vest_20.shp')"
   ]
  }
 ],
 "metadata": {
  "kernelspec": {
   "display_name": "Python 3 (ipykernel)",
   "language": "python",
   "name": "python3"
  },
  "language_info": {
   "codemirror_mode": {
    "name": "ipython",
    "version": 3
   },
   "file_extension": ".py",
   "mimetype": "text/x-python",
   "name": "python",
   "nbconvert_exporter": "python",
   "pygments_lexer": "ipython3",
   "version": "3.12.3"
  }
 },
 "nbformat": 4,
 "nbformat_minor": 5
}
