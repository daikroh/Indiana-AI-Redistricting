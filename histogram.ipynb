{
 "cells": [
  {
   "cell_type": "markdown",
   "metadata": {},
   "source": [
    "# Histograms\n",
    "\n",
    "### Code by Amelia Lach"
   ]
  },
  {
   "cell_type": "code",
   "execution_count": 1,
   "metadata": {},
   "outputs": [],
   "source": [
    "from gerrychain import (GeographicPartition,\n",
    "                        Graph, \n",
    "                        updaters,\n",
    "                        Election\n",
    "                        )\n",
    "import numpy as np\n",
    "import statistics\n",
    "import matplotlib.pyplot as plt\n",
    "from gerrychain import Graph, Partition, proposals, updaters, constraints, accept, MarkovChain, Election\n",
    "from gerrychain.updaters import cut_edges, Tally\n",
    "from gerrychain.proposals import recom\n",
    "from gerrychain.accept import always_accept\n",
    "from functools import partial\n",
    "import geopandas as gpd\n",
    "import pandas as pd"
   ]
  },
  {
   "cell_type": "markdown",
   "metadata": {},
   "source": [
    "### Setting Up File"
   ]
  },
  {
   "cell_type": "code",
   "execution_count": 2,
   "metadata": {},
   "outputs": [],
   "source": [
    "gdf = gpd.read_file('./IN/IN.shp')\n",
    "\n",
    "gdf = gdf.fillna(value={'ALL_TOT20': 0})\n",
    "gdf = gdf.fillna(value={'VAP_TOT20': 0})\n",
    "graph = Graph.from_geodataframe(gdf)"
   ]
  },
  {
   "cell_type": "markdown",
   "metadata": {},
   "source": [
    "### Setting Up Relevant Variables"
   ]
  },
  {
   "cell_type": "code",
   "execution_count": 3,
   "metadata": {},
   "outputs": [],
   "source": [
    "tot_pop = sum([graph.nodes()[v]['ALL_TOT20'] for v in graph.nodes()])\n",
    "num_dist = 9 # Number of Congressional Districts in Indiana\n",
    "ideal_pop = tot_pop/num_dist\n",
    "pop_tolerance = 0.02"
   ]
  },
  {
   "cell_type": "markdown",
   "metadata": {},
   "source": [
    "### Function for # of Republican Districts"
   ]
  },
  {
   "cell_type": "code",
   "execution_count": 4,
   "metadata": {},
   "outputs": [],
   "source": [
    "def republican_wins(partition):\n",
    "    republican_won = 0\n",
    "    for district in partition.parts:\n",
    "        democratic_votes = partition[\"dem votes\"][district]\n",
    "        republican_votes = partition[\"rep votes\"][district]\n",
    "        total_votes = democratic_votes + republican_votes\n",
    "        if republican_votes / total_votes > 0.5:\n",
    "            republican_won += 1\n",
    "    return republican_won"
   ]
  },
  {
   "cell_type": "markdown",
   "metadata": {},
   "source": [
    "### Setting Up Partition"
   ]
  },
  {
   "cell_type": "code",
   "execution_count": 5,
   "metadata": {},
   "outputs": [],
   "source": [
    "initial_partition = Partition(\n",
    "      graph, \n",
    "      assignment=\"CD\",\n",
    "      updaters={\n",
    "          \"cut_edges\":cut_edges, \n",
    "          \"population\": Tally(\"ALL_TOT20\", alias=\"population\"),  \n",
    "          \"rep votes\": Tally(\"PRES20R\", alias = \"rep votes\"),\n",
    "          \"dem votes\": Tally(\"PRES20D\", alias = \"dem votes\"),\n",
    "          \"republican_won\": republican_wins,\n",
    "      }\n",
    ")"
   ]
  },
  {
   "cell_type": "markdown",
   "metadata": {},
   "source": [
    "### Setting Up Proposal"
   ]
  },
  {
   "cell_type": "code",
   "execution_count": 6,
   "metadata": {},
   "outputs": [],
   "source": [
    "# Define proposal and constraints\n",
    "rw_proposal = partial(recom, ## how you choose a next districting plan\n",
    "                      pop_col = \"ALL_TOT20\", ## What data describes population? \n",
    "                      pop_target = ideal_pop, ## What the target/ideal population is for each district \n",
    "                                             \n",
    "                      epsilon = pop_tolerance,  ## how far from ideal population you can deviate\n",
    "                                              \n",
    "                      node_repeats = 1 ## number of times to repeat bipartition.  Can increase if you get a BipartitionWarning\n",
    "                      )"
   ]
  },
  {
   "cell_type": "markdown",
   "metadata": {},
   "source": [
    "### Constraints"
   ]
  },
  {
   "cell_type": "code",
   "execution_count": 7,
   "metadata": {},
   "outputs": [],
   "source": [
    "population_constraint = constraints.within_percent_of_ideal_population(\n",
    "    initial_partition, \n",
    "    pop_tolerance, \n",
    "    pop_key=\"population\")"
   ]
  },
  {
   "cell_type": "markdown",
   "metadata": {},
   "source": [
    "### Markov Chain"
   ]
  },
  {
   "cell_type": "code",
   "execution_count": 8,
   "metadata": {},
   "outputs": [],
   "source": [
    "# Creating the Markov Chain\n",
    "our_random_walk = MarkovChain(\n",
    "    proposal = rw_proposal, \n",
    "    constraints = [population_constraint],\n",
    "    accept = always_accept, # Accept every proposed plan that meets the population constraints\n",
    "    initial_state = initial_partition, \n",
    "    total_steps = 8000) "
   ]
  },
  {
   "cell_type": "markdown",
   "metadata": {},
   "source": [
    "### Lists for storing data"
   ]
  },
  {
   "cell_type": "code",
   "execution_count": 9,
   "metadata": {},
   "outputs": [],
   "source": [
    "cutedge_ensemble = []\n",
    "republican_won_ensemble = []"
   ]
  },
  {
   "cell_type": "markdown",
   "metadata": {},
   "source": [
    "### Running Markov Chain"
   ]
  },
  {
   "cell_type": "code",
   "execution_count": 13,
   "metadata": {},
   "outputs": [],
   "source": [
    "# Running the Markov Chain\n",
    "for part in our_random_walk:\n",
    "    # Add cutedges to cutedges ensemble\n",
    "    cutedge_ensemble.append(len(part[\"cut_edges\"]))\n",
    "    \n",
    "    republican_won_ensemble.append(part[\"republican_won\"])"
   ]
  },
  {
   "cell_type": "markdown",
   "metadata": {},
   "source": [
    "### Histogram of Cut Edges"
   ]
  },
  {
   "cell_type": "code",
   "execution_count": 14,
   "metadata": {},
   "outputs": [
    {
     "data": {
      "image/png": "[encoded data removed]",
      "text/plain": [
       "<Figure size 640x480 with 1 Axes>"
      ]
     },
     "metadata": {},
     "output_type": "display_data"
    }
   ],
   "source": [
    "plt.figure()\n",
    "plt.hist(cutedge_ensemble, align = 'left')\n",
    "plt.title(\"Histogram of Cut Edges\")\n",
    "plt.show()\n",
    "#plt.savefig('histogram_cut_edges.png')"
   ]
  },
  {
   "cell_type": "markdown",
   "metadata": {},
   "source": [
    "### Histogram of Republican Districts"
   ]
  },
  {
   "cell_type": "code",
   "execution_count": 15,
   "metadata": {},
   "outputs": [
    {
     "data": {
      "image/png": "[encoded data removed]",
      "text/plain": [
       "<Figure size 640x480 with 1 Axes>"
      ]
     },
     "metadata": {},
     "output_type": "display_data"
    }
   ],
   "source": [
    "plt.figure()\n",
    "plt.hist(republican_won_ensemble, align = 'left')\n",
    "plt.title(\"Histogram of Republican-won districts\")\n",
    "plt.show()\n",
    "#plt.savefig('histogram_democratic_won.png')"
   ]
  }
 ],
 "metadata": {
  "kernelspec": {
   "display_name": "base",
   "language": "python",
   "name": "python3"
  },
  "language_info": {
   "codemirror_mode": {
    "name": "ipython",
    "version": 3
   },
   "file_extension": ".py",
   "mimetype": "text/x-python",
   "name": "python",
   "nbconvert_exporter": "python",
   "pygments_lexer": "ipython3",
   "version": "3.11.8"
  }
 },
 "nbformat": 4,
 "nbformat_minor": 2
}
